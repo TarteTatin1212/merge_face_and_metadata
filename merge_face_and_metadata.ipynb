{
  "nbformat": 4,
  "nbformat_minor": 0,
  "metadata": {
    "colab": {
      "provenance": [],
      "authorship_tag": "ABX9TyO3g1rxMPfsTuzl79xoN+WY",
      "include_colab_link": true
    },
    "kernelspec": {
      "name": "python3",
      "display_name": "Python 3"
    },
    "language_info": {
      "name": "python"
    }
  },
  "cells": [
    {
      "cell_type": "markdown",
      "metadata": {
        "id": "view-in-github",
        "colab_type": "text"
      },
      "source": [
        "<a href=\"https://colab.research.google.com/github/TarteTatin1212/merge_face_and_metadata/blob/main/merge_face_and_metadata.ipynb\" target=\"_parent\"><img src=\"https://colab.research.google.com/assets/colab-badge.svg\" alt=\"Open In Colab\"/></a>"
      ]
    },
    {
      "cell_type": "code",
      "execution_count": null,
      "metadata": {
        "id": "uc8e0JUUlVef"
      },
      "outputs": [],
      "source": [
        "import pandas as pd\n",
        "import os\n",
        "from os.path import isfile, join\n",
        "from google.colab import drive\n"
      ]
    },
    {
      "cell_type": "code",
      "source": [
        "# Googleドライブをマウント\n",
        "drive.mount('/content/drive')\n"
      ],
      "metadata": {
        "colab": {
          "base_uri": "https://localhost:8080/"
        },
        "id": "A0C-0QdVqqq1",
        "outputId": "0d1f0a64-c410-43c3-f9e3-c07b43fc3cdd"
      },
      "execution_count": null,
      "outputs": [
        {
          "output_type": "stream",
          "name": "stdout",
          "text": [
            "Drive already mounted at /content/drive; to attempt to forcibly remount, call drive.mount(\"/content/drive\", force_remount=True).\n"
          ]
        }
      ]
    },
    {
      "cell_type": "code",
      "source": [
        "# YouTubeのメタデータが保存されているCSVファイルのパス\n",
        "csv_filepath = '/content/drive/MyDrive/Horita_Semi/Senior_Project/saved_data/csv/japanese_20231004_224243.csv'\n",
        "\n",
        "# 顔認識されたサムネイルのディレクトリパス\n",
        "recognized_faces_dir = '/content/drive/MyDrive/Horita_Semi/Senior_Project/FaceRecognitionResults/RecognizedFaces'\n",
        "\n",
        "# 顔認識されなかったサムネイルのディレクトリパス\n",
        "unrecognized_faces_dir = '/content/drive/MyDrive/Horita_Semi/Senior_Project/FaceRecognitionResults/UnrecognizedFaces'\n"
      ],
      "metadata": {
        "id": "pHLK5Fxvlw2A"
      },
      "execution_count": null,
      "outputs": []
    },
    {
      "cell_type": "code",
      "source": [
        "# 顔認識されたサムネイルのファイル名（動画ID）をリストに保存\n",
        "recognized_faces = [f.replace('.jpg', '') for f in os.listdir(recognized_faces_dir) if isfile(join(recognized_faces_dir, f)) and f.endswith('.jpg')]\n",
        "\n",
        "# 顔認識されなかったサムネイルのファイル名（動画ID）をリストに保存\n",
        "unrecognized_faces = [f.replace('.jpg', '') for f in os.listdir(unrecognized_faces_dir) if isfile(join(unrecognized_faces_dir, f)) and f.endswith('.jpg')]\n"
      ],
      "metadata": {
        "id": "yO3QK0dkqx89"
      },
      "execution_count": null,
      "outputs": []
    },
    {
      "cell_type": "code",
      "source": [
        "# それぞれのリストからデータフレームを作成\n",
        "recognized_faces_df = pd.DataFrame(recognized_faces, columns=['video_id'])\n",
        "recognized_faces_df['face_detected'] = True\n",
        "\n",
        "unrecognized_faces_df = pd.DataFrame(unrecognized_faces, columns=['video_id'])\n",
        "unrecognized_faces_df['face_detected'] = False\n",
        "\n",
        "# 二つのデータフレームを結合\n",
        "faces_df = pd.concat([recognized_faces_df, unrecognized_faces_df], ignore_index=True)\n",
        "\n",
        "# 結果の表示（必要に応じて）\n",
        "print(faces_df.head())\n"
      ],
      "metadata": {
        "colab": {
          "base_uri": "https://localhost:8080/"
        },
        "id": "7eB8iEqGl33I",
        "outputId": "b1ce29dc-2f44-4f77-9b7a-042500326348"
      },
      "execution_count": null,
      "outputs": [
        {
          "output_type": "stream",
          "name": "stdout",
          "text": [
            "      video_id  face_detected\n",
            "0  CqIsq7QFCfY           True\n",
            "1  YpE7g50kCdQ          False\n",
            "2  kAZHeXodJj0          False\n",
            "3  DCuoWYeneuc          False\n",
            "4  SkyrTccqmXU          False\n"
          ]
        }
      ]
    },
    {
      "cell_type": "code",
      "source": [
        "# YouTubeのメタデータを読み込む\n",
        "youtube_metadata = pd.read_csv(csv_filepath)\n",
        "\n",
        "# 結果の表示（必要に応じて）\n",
        "print(youtube_metadata.head())\n"
      ],
      "metadata": {
        "colab": {
          "base_uri": "https://localhost:8080/"
        },
        "id": "OrirYkiHl5pS",
        "outputId": "8bba83be-6136-41fc-c791-8146f2a25077"
      },
      "execution_count": null,
      "outputs": [
        {
          "output_type": "stream",
          "name": "stdout",
          "text": [
            "      video_id                                              title  \\\n",
            "0  DCuoWYeneuc                                      地上波で冠番組はじめました   \n",
            "1  SkyrTccqmXU      『THE FIRST TAKE』ユートピア公開されました😈🙌🏻 #imase #ユートピア   \n",
            "2  CqIsq7QFCfY                            【最終戦セレモニー】原辰徳監督から挨拶【巨人】   \n",
            "3  QIkN5LdKhNY                           【最終戦セレモニー】原辰徳監督へ花束贈呈【巨人】   \n",
            "4  YpE7g50kCdQ  【速報】甲府がACL初勝利！ 90分に待っていたドラマ、長谷川元希のゴールが新たな歴史を切り...   \n",
            "\n",
            "                     channelTitle  \\\n",
            "0  ATARASHII GAKKO! - 新しい学校のリーダーズ   \n",
            "1                           imase   \n",
            "2          DRAMATIC BASEBALL 2023   \n",
            "3          DRAMATIC BASEBALL 2023   \n",
            "4                      DAZN Japan   \n",
            "\n",
            "                                     thumbnailUrl  viewCount  \n",
            "0  https://i.ytimg.com/vi/DCuoWYeneuc/default.jpg      35192  \n",
            "1  https://i.ytimg.com/vi/SkyrTccqmXU/default.jpg      11839  \n",
            "2  https://i.ytimg.com/vi/CqIsq7QFCfY/default.jpg     347897  \n",
            "3  https://i.ytimg.com/vi/QIkN5LdKhNY/default.jpg     143720  \n",
            "4  https://i.ytimg.com/vi/YpE7g50kCdQ/default.jpg     104795  \n"
          ]
        }
      ]
    },
    {
      "cell_type": "code",
      "source": [
        "# youtube_metadataのカラム名を表示\n",
        "print(youtube_metadata.columns.tolist())\n"
      ],
      "metadata": {
        "colab": {
          "base_uri": "https://localhost:8080/"
        },
        "id": "cdrMeGnLvGhE",
        "outputId": "7de47e61-8941-4778-9045-3ceeb241125a"
      },
      "execution_count": null,
      "outputs": [
        {
          "output_type": "stream",
          "name": "stdout",
          "text": [
            "['video_id', 'title', 'channelTitle', 'thumbnailUrl', 'viewCount']\n"
          ]
        }
      ]
    },
    {
      "cell_type": "code",
      "source": [
        "# 動画IDをキーにしてYouTubeのメタデータと顔認識の結果をマージ（カラム名が異なる場合）\n",
        "merged_data = pd.merge(youtube_metadata, faces_df, left_on='video_id', right_on='video_id', how='left')\n",
        "\n",
        "# face_detectedカラムのNaNをFalseに置換（顔が検出されなかった動画）\n",
        "merged_data['face_detected'].fillna(False, inplace=True)\n",
        "\n",
        "# 結果の表示\n",
        "print(merged_data.head())\n"
      ],
      "metadata": {
        "colab": {
          "base_uri": "https://localhost:8080/"
        },
        "id": "huMZycGfl7c9",
        "outputId": "1af26d37-5aac-433b-ed34-970aef298187"
      },
      "execution_count": null,
      "outputs": [
        {
          "output_type": "stream",
          "name": "stdout",
          "text": [
            "      video_id                                              title  \\\n",
            "0  DCuoWYeneuc                                      地上波で冠番組はじめました   \n",
            "1  SkyrTccqmXU      『THE FIRST TAKE』ユートピア公開されました😈🙌🏻 #imase #ユートピア   \n",
            "2  CqIsq7QFCfY                            【最終戦セレモニー】原辰徳監督から挨拶【巨人】   \n",
            "3  QIkN5LdKhNY                           【最終戦セレモニー】原辰徳監督へ花束贈呈【巨人】   \n",
            "4  YpE7g50kCdQ  【速報】甲府がACL初勝利！ 90分に待っていたドラマ、長谷川元希のゴールが新たな歴史を切り...   \n",
            "\n",
            "                     channelTitle  \\\n",
            "0  ATARASHII GAKKO! - 新しい学校のリーダーズ   \n",
            "1                           imase   \n",
            "2          DRAMATIC BASEBALL 2023   \n",
            "3          DRAMATIC BASEBALL 2023   \n",
            "4                      DAZN Japan   \n",
            "\n",
            "                                     thumbnailUrl  viewCount  face_detected  \n",
            "0  https://i.ytimg.com/vi/DCuoWYeneuc/default.jpg      35192          False  \n",
            "1  https://i.ytimg.com/vi/SkyrTccqmXU/default.jpg      11839          False  \n",
            "2  https://i.ytimg.com/vi/CqIsq7QFCfY/default.jpg     347897           True  \n",
            "3  https://i.ytimg.com/vi/QIkN5LdKhNY/default.jpg     143720          False  \n",
            "4  https://i.ytimg.com/vi/YpE7g50kCdQ/default.jpg     104795          False  \n"
          ]
        }
      ]
    },
    {
      "cell_type": "code",
      "source": [
        "# マージされたデータをCSVとして保存\n",
        "merged_data.to_csv('/content/drive/MyDrive/Horita_Semi/Senior_Project/merged_data.csv', index=False)\n",
        "\n",
        "# 保存したファイルのパスを表示\n",
        "print(\"Data saved to /content/drive/MyDrive/Horita_Semi/Senior_Project/merged_data.csv\")\n"
      ],
      "metadata": {
        "id": "JQYjuUR0l8Uu",
        "colab": {
          "base_uri": "https://localhost:8080/"
        },
        "outputId": "43135c9f-84d9-42bc-b6f4-23c554642874"
      },
      "execution_count": null,
      "outputs": [
        {
          "output_type": "stream",
          "name": "stdout",
          "text": [
            "Data saved to /content/drive/MyDrive/Horita_Semi/Senior_Project/merged_data.csv\n"
          ]
        }
      ]
    }
  ]
}